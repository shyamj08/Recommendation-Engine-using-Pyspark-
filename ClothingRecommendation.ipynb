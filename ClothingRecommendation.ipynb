{
  "nbformat": 4,
  "nbformat_minor": 0,
  "metadata": {
    "colab": {
      "name": "ClothingFINAL.ipynb",
      "provenance": [],
      "collapsed_sections": []
    },
    "kernelspec": {
      "display_name": "Python 3",
      "name": "python3"
    },
    "language_info": {
      "name": "python"
    }
  },
  "cells": [
    {
      "cell_type": "code",
      "metadata": {
        "colab": {
          "base_uri": "https://localhost:8080/"
        },
        "id": "wwgv2y-PNAld",
        "outputId": "e19e13a3-3c3a-4f51-a142-bcb14a8851c5"
      },
      "source": [
        "!pip install pyspark"
      ],
      "execution_count": null,
      "outputs": [
        {
          "output_type": "stream",
          "name": "stdout",
          "text": [
            "Collecting pyspark\n",
            "  Downloading pyspark-3.2.0.tar.gz (281.3 MB)\n",
            "\u001b[K     |████████████████████████████████| 281.3 MB 38 kB/s \n",
            "\u001b[?25hCollecting py4j==0.10.9.2\n",
            "  Downloading py4j-0.10.9.2-py2.py3-none-any.whl (198 kB)\n",
            "\u001b[K     |████████████████████████████████| 198 kB 44.6 MB/s \n",
            "\u001b[?25hBuilding wheels for collected packages: pyspark\n",
            "  Building wheel for pyspark (setup.py) ... \u001b[?25l\u001b[?25hdone\n",
            "  Created wheel for pyspark: filename=pyspark-3.2.0-py2.py3-none-any.whl size=281805912 sha256=c6a04cc149ae884e47ae737c2558ab89ceda11dd4e16bf0a508577a916b26c00\n",
            "  Stored in directory: /root/.cache/pip/wheels/0b/de/d2/9be5d59d7331c6c2a7c1b6d1a4f463ce107332b1ecd4e80718\n",
            "Successfully built pyspark\n",
            "Installing collected packages: py4j, pyspark\n",
            "Successfully installed py4j-0.10.9.2 pyspark-3.2.0\n"
          ]
        }
      ]
    },
    {
      "cell_type": "code",
      "metadata": {
        "id": "ADD1eVIeMl8I"
      },
      "source": [
        "#import and create sparksession object\n",
        "from pyspark.sql import SparkSession\n",
        "spark=SparkSession.builder.appName('rc').getOrCreate()"
      ],
      "execution_count": null,
      "outputs": []
    },
    {
      "cell_type": "code",
      "metadata": {
        "id": "4OHLjBkBMl8K"
      },
      "source": [
        "#import the required functions and libraries\n",
        "from pyspark.sql.functions import *"
      ],
      "execution_count": null,
      "outputs": []
    },
    {
      "cell_type": "code",
      "metadata": {
        "id": "-Ntseu4BpmGt"
      },
      "source": [
        "import sys\n",
        "from pyspark import SparkConf, SparkContext\n",
        "from pyspark.sql import SparkSession\n",
        "from pyspark.ml.recommendation import ALS\n",
        "from pyspark.sql.functions  import *\n",
        "from pyspark.sql.types import *"
      ],
      "execution_count": null,
      "outputs": []
    },
    {
      "cell_type": "code",
      "metadata": {
        "id": "ZDhpW57vppe7"
      },
      "source": [
        "# define the configurations for this Spark program\n",
        "conf = SparkConf().setMaster(\"local[*]\").setAppName(\"Clothing\")\n",
        "conf.set(\"spark.executor.memory\", \"6G\")\n",
        "conf.set(\"spark.driver.memory\", \"2G\")\n",
        "conf.set(\"spark.executor.cores\", \"4\")\n",
        "conf.set(\"spark.serializer\", \"org.apache.spark.serializer.KryoSerializer\")\n",
        "conf.set(\"spark.default.parallelism\", \"4\")\n",
        "\n",
        "# create a Spark Session instead of a Spark Context\n",
        "spark = SparkSession.builder \\\n",
        "    .config(conf = conf) \\\n",
        "  .appName(\"spark session example\") \\\n",
        "  .getOrCreate()\n",
        "sc = spark.sparkContext"
      ],
      "execution_count": null,
      "outputs": []
    },
    {
      "cell_type": "code",
      "metadata": {
        "id": "_fIAHRoPMl8M"
      },
      "source": [
        "#load the dataset and create sprk dataframe\n",
        "df=spark.read.csv('/content/Ratings.csv',inferSchema=True,header=True)"
      ],
      "execution_count": null,
      "outputs": []
    },
    {
      "cell_type": "code",
      "metadata": {
        "id": "EkyD9N8WmJuJ"
      },
      "source": [
        "df=df.dropna()"
      ],
      "execution_count": null,
      "outputs": []
    },
    {
      "cell_type": "code",
      "metadata": {
        "id": "e8KiMCpV83VD",
        "colab": {
          "base_uri": "https://localhost:8080/"
        },
        "outputId": "9bd76e47-fd0e-44c6-f6e3-078fc6e535d5"
      },
      "source": [
        "df.show()"
      ],
      "execution_count": null,
      "outputs": [
        {
          "output_type": "stream",
          "name": "stdout",
          "text": [
            "+-------+-----------+------+\n",
            "|User_ID|Clothing_ID|Rating|\n",
            "+-------+-----------+------+\n",
            "|      0|        767|     4|\n",
            "|      1|       1080|     5|\n",
            "|      2|       1077|     3|\n",
            "|      3|       1049|     5|\n",
            "|      4|        847|     5|\n",
            "|      5|       1080|     2|\n",
            "|      6|        858|     5|\n",
            "|      7|        858|     4|\n",
            "|      8|       1077|     5|\n",
            "|      9|       1077|     5|\n",
            "|     10|       1077|     3|\n",
            "|     11|       1095|     5|\n",
            "|     12|       1095|     5|\n",
            "|     13|        767|     5|\n",
            "|     14|       1077|     3|\n",
            "|     15|       1065|     4|\n",
            "|     16|       1065|     3|\n",
            "|     17|        853|     5|\n",
            "|     18|       1120|     5|\n",
            "|     19|       1077|     5|\n",
            "+-------+-----------+------+\n",
            "only showing top 20 rows\n",
            "\n"
          ]
        }
      ]
    },
    {
      "cell_type": "code",
      "metadata": {
        "colab": {
          "base_uri": "https://localhost:8080/"
        },
        "id": "XXCr91wyjJWX",
        "outputId": "ea50d1c7-769f-4677-a4b9-42d022a916b5"
      },
      "source": [
        "df.printSchema()"
      ],
      "execution_count": null,
      "outputs": [
        {
          "output_type": "stream",
          "name": "stdout",
          "text": [
            "root\n",
            " |-- User_ID: integer (nullable = true)\n",
            " |-- Clothing_ID: integer (nullable = true)\n",
            " |-- Rating: integer (nullable = true)\n",
            "\n"
          ]
        }
      ]
    },
    {
      "cell_type": "code",
      "metadata": {
        "id": "9zfzp-gUMl8d"
      },
      "source": [
        "#import ALS recommender function from pyspark ml library\n",
        "from pyspark.ml.recommendation import ALS"
      ],
      "execution_count": null,
      "outputs": []
    },
    {
      "cell_type": "code",
      "metadata": {
        "id": "sTmwLgZCMl8e"
      },
      "source": [
        "#Training the recommender model using train datatset\n",
        "als = ALS(maxIter=10, regParam=0.01, userCol=\"User_ID\", itemCol=\"Clothing_ID\", ratingCol=\"Rating\",nonnegative=True,coldStartStrategy=\"drop\")"
      ],
      "execution_count": null,
      "outputs": []
    },
    {
      "cell_type": "code",
      "metadata": {
        "id": "dxZkIQ54Ml8e"
      },
      "source": [
        "model=als.fit(df)"
      ],
      "execution_count": null,
      "outputs": []
    },
    {
      "cell_type": "code",
      "metadata": {
        "id": "T1fKnitp0Adn"
      },
      "source": [
        "info_df=spark.read.csv('/content/Womens Clothing E-Commerce Reviews.csv',inferSchema=True,header=True)"
      ],
      "execution_count": null,
      "outputs": []
    },
    {
      "cell_type": "code",
      "metadata": {
        "id": "_iJQXtiLmOmC"
      },
      "source": [
        "info_df=info_df.dropna()"
      ],
      "execution_count": null,
      "outputs": []
    },
    {
      "cell_type": "code",
      "metadata": {
        "id": "PMLnLz8zxtMn"
      },
      "source": [
        "ratings = df.filter(col('User_ID')==808)\n"
      ],
      "execution_count": null,
      "outputs": []
    },
    {
      "cell_type": "code",
      "metadata": {
        "id": "cla_xXnM1UJL",
        "colab": {
          "base_uri": "https://localhost:8080/"
        },
        "outputId": "1245a5c6-cf69-429a-f1f5-40a172823b96"
      },
      "source": [
        "ratings.show()"
      ],
      "execution_count": null,
      "outputs": [
        {
          "output_type": "stream",
          "name": "stdout",
          "text": [
            "+-------+-----------+------+\n",
            "|User_ID|Clothing_ID|Rating|\n",
            "+-------+-----------+------+\n",
            "|    808|        886|     3|\n",
            "+-------+-----------+------+\n",
            "\n"
          ]
        }
      ]
    },
    {
      "cell_type": "code",
      "source": [
        ""
      ],
      "metadata": {
        "id": "yUGTQu0fAAAV"
      },
      "execution_count": null,
      "outputs": []
    },
    {
      "cell_type": "markdown",
      "metadata": {
        "id": "Gu4BOxQ6MYq4"
      },
      "source": [
        "#recommendForUserSubset"
      ]
    },
    {
      "cell_type": "code",
      "metadata": {
        "id": "5SPRm1akDE5c"
      },
      "source": [
        "ID = [[808]]\n",
        "# convert this into a dataframe so that it can be passed into the recommendForUserSubset\n",
        "functiondf = sc.parallelize(ID).toDF(['User_ID'])\n",
        "num_rec = 10"
      ],
      "execution_count": null,
      "outputs": []
    },
    {
      "cell_type": "code",
      "metadata": {
        "id": "j4yQeZP62NA-",
        "colab": {
          "base_uri": "https://localhost:8080/"
        },
        "outputId": "07701b9f-475b-4c1a-dc4e-80cbf4968161"
      },
      "source": [
        "functiondf.show()"
      ],
      "execution_count": null,
      "outputs": [
        {
          "output_type": "stream",
          "name": "stdout",
          "text": [
            "+-------+\n",
            "|User_ID|\n",
            "+-------+\n",
            "|    808|\n",
            "+-------+\n",
            "\n"
          ]
        }
      ]
    },
    {
      "cell_type": "code",
      "metadata": {
        "id": "UP2YNcn4D0uU",
        "colab": {
          "base_uri": "https://localhost:8080/"
        },
        "outputId": "7592222a-7949-485a-8ed1-c1323a21effa"
      },
      "source": [
        "recommendations = model.recommendForUserSubset(functiondf , num_rec)\n",
        "recommendations.collect()"
      ],
      "execution_count": null,
      "outputs": [
        {
          "output_type": "stream",
          "name": "stderr",
          "text": [
            "/usr/local/lib/python3.7/dist-packages/pyspark/sql/context.py:127: FutureWarning: Deprecated in 3.0.0. Use SparkSession.builder.getOrCreate() instead.\n",
            "  FutureWarning\n"
          ]
        },
        {
          "output_type": "execute_result",
          "data": {
            "text/plain": [
              "[Row(User_ID=808, recommendations=[Row(Clothing_ID=501, rating=8.273388862609863), Row(Clothing_ID=631, rating=8.174712181091309), Row(Clothing_ID=668, rating=8.108043670654297), Row(Clothing_ID=1132, rating=8.00462818145752), Row(Clothing_ID=447, rating=7.6829304695129395), Row(Clothing_ID=417, rating=7.3790411949157715), Row(Clothing_ID=293, rating=7.25611686706543), Row(Clothing_ID=539, rating=7.021347522735596), Row(Clothing_ID=509, rating=6.978665351867676), Row(Clothing_ID=684, rating=6.894820213317871)])]"
            ]
          },
          "metadata": {},
          "execution_count": 20
        }
      ]
    },
    {
      "cell_type": "code",
      "metadata": {
        "id": "f4ka4VzDDgsk",
        "colab": {
          "base_uri": "https://localhost:8080/"
        },
        "outputId": "f640e3a0-fd93-4057-8409-a89ce2ab6df3"
      },
      "source": [
        "recommended_clothing = [recommendations.collect()[0]['recommendations'][x]['Clothing_ID'] for x in range(0,num_rec)]\n",
        "recommended_clothing"
      ],
      "execution_count": null,
      "outputs": [
        {
          "output_type": "execute_result",
          "data": {
            "text/plain": [
              "[501, 631, 668, 1132, 447, 417, 293, 539, 509, 684]"
            ]
          },
          "metadata": {},
          "execution_count": 21
        }
      ]
    },
    {
      "cell_type": "code",
      "metadata": {
        "id": "MBjDiNOKEHL9"
      },
      "source": [
        "# convert the recommended_ISBN list into a dataframe so that it can be joined with books_df\n",
        "rec_df = spark.createDataFrame(recommended_clothing, IntegerType())"
      ],
      "execution_count": null,
      "outputs": []
    },
    {
      "cell_type": "code",
      "metadata": {
        "id": "3AxW_5rK4Epa",
        "colab": {
          "base_uri": "https://localhost:8080/"
        },
        "outputId": "f7cc82c6-81fc-4d64-d904-a21edd4d9bbb"
      },
      "source": [
        "rec_df.show()"
      ],
      "execution_count": null,
      "outputs": [
        {
          "output_type": "stream",
          "name": "stdout",
          "text": [
            "+-----+\n",
            "|value|\n",
            "+-----+\n",
            "|  501|\n",
            "|  631|\n",
            "|  668|\n",
            "| 1132|\n",
            "|  447|\n",
            "|  417|\n",
            "|  293|\n",
            "|  539|\n",
            "|  509|\n",
            "|  684|\n",
            "+-----+\n",
            "\n"
          ]
        }
      ]
    },
    {
      "cell_type": "code",
      "metadata": {
        "id": "_cojT5kqAJgm"
      },
      "source": [
        "df2=rec_df.join(info_df,rec_df.value == info_df.Clothing_ID)"
      ],
      "execution_count": null,
      "outputs": []
    },
    {
      "cell_type": "code",
      "metadata": {
        "id": "R_Ph0FhPm0Yn",
        "colab": {
          "base_uri": "https://localhost:8080/"
        },
        "outputId": "ef82dad6-648d-4a44-826d-013181e7f8e9"
      },
      "source": [
        "df2.show()"
      ],
      "execution_count": null,
      "outputs": [
        {
          "output_type": "stream",
          "name": "stdout",
          "text": [
            "+-----+-----------+---+--------------------+--------------------+--------------------+---------------+-----------------------+--------------+---------------+----------+\n",
            "|value|Clothing_ID|Age|               Title|         Review Text|              Rating|Recommended IND|Positive Feedback Count| Division Name|Department Name|Class Name|\n",
            "+-----+-----------+---+--------------------+--------------------+--------------------+---------------+-----------------------+--------------+---------------+----------+\n",
            "|  501|        501| 46|Lune embroidered ...|Really striking. ...|                   5|              1|                      0|     Initmates|       Intimate|     Sleep|\n",
            "|  501|        501| 60|      Buy this robe!|\"Buy this robe be...| but i tried on t...|              5|                      1|             0|      Initmates|  Intimate|\n",
            "|  631|        631| 27|   Beautiful chemise|This is a very so...|                   4|              1|                      0|General Petite|       Intimate|    Lounge|\n",
            "| 1132|       1132| 52|Fabulous, petites...|\"I ordered xs pet...|                   5|              1|                      1|General Petite|        Jackets| Outerwear|\n",
            "| 1132|       1132| 40|     Fall essential!|I ordered xs/s. i...|                   5|              1|                     10|General Petite|        Jackets| Outerwear|\n",
            "| 1132|       1132| 50|     Perfect poncho!|This will be my f...|                   5|              1|                      0|General Petite|        Jackets| Outerwear|\n",
            "|  447|        447| 47|Nice shorts - lov...|\"I purchased thes...|                   5|              1|                      1|       General|        Bottoms|    Shorts|\n",
            "|  417|        417| 52|  Super comfy shorts|Love these shorts...|                   5|              1|                      0|       General|        Bottoms|    Shorts|\n",
            "|  417|        417| 30|Super comfortable...|These have become...|                   5|              1|                      0|       General|        Bottoms|    Shorts|\n",
            "|  417|        417| 66|            So great|\"Have been on the...|                   5|              1|                      1|       General|        Bottoms|    Shorts|\n",
            "|  417|        417| 51|            Stretchy|Love the length, ...|                   4|              1|                      0|       General|        Bottoms|    Shorts|\n",
            "|  417|        417| 37|      Perfect shorts|I love these shor...|                   5|              1|                      0|       General|        Bottoms|    Shorts|\n",
            "|  417|        417| 31|Great length, tru...|These shorts are ...|                   4|              1|                      1|       General|        Bottoms|    Shorts|\n",
            "|  417|        417| 45|        Great shorts|These shorts are ...|                   5|              1|                      2|       General|        Bottoms|    Shorts|\n",
            "|  417|        417| 48|   Variety of colors|I couldn't wait t...|                   5|              1|                      0|       General|        Bottoms|    Shorts|\n",
            "|  417|        417| 42|Nice change from ...|I really like the...|                   5|              1|                      4|       General|        Bottoms|    Shorts|\n",
            "|  293|        293| 46| Maaji patchwork top|I'm a 0/2 on top ...|                   5|              1|                      0|     Initmates|       Intimate|      Swim|\n",
            "|  293|        293| 29|Unique detailing ...|Love this suit. i...|                   5|              1|                      0|     Initmates|       Intimate|      Swim|\n",
            "|  539|        539| 45|    Great fitted tee|Great fitted tee....|                   5|              1|                      5|General Petite|       Intimate|    Lounge|\n",
            "|  509|        509| 35|     Not for petites|Length too long a...|                   2|              0|                      5|     Initmates|       Intimate|     Sleep|\n",
            "+-----+-----------+---+--------------------+--------------------+--------------------+---------------+-----------------------+--------------+---------------+----------+\n",
            "only showing top 20 rows\n",
            "\n"
          ]
        }
      ]
    },
    {
      "cell_type": "code",
      "metadata": {
        "id": "EuCrH7prYrNn",
        "colab": {
          "base_uri": "https://localhost:8080/"
        },
        "outputId": "b1131653-2ca7-452d-a803-55ed9cb2a0bf"
      },
      "source": [
        "df2.select(col('Clothing_ID'),col('Division Name'),col('Department Name'),col('Class Name')).show()"
      ],
      "execution_count": null,
      "outputs": [
        {
          "output_type": "stream",
          "name": "stdout",
          "text": [
            "+-----------+--------------+---------------+----------+\n",
            "|Clothing_ID| Division Name|Department Name|Class Name|\n",
            "+-----------+--------------+---------------+----------+\n",
            "|        501|     Initmates|       Intimate|     Sleep|\n",
            "|        501|             0|      Initmates|  Intimate|\n",
            "|        631|General Petite|       Intimate|    Lounge|\n",
            "|       1132|General Petite|        Jackets| Outerwear|\n",
            "|       1132|General Petite|        Jackets| Outerwear|\n",
            "|       1132|General Petite|        Jackets| Outerwear|\n",
            "|        447|       General|        Bottoms|    Shorts|\n",
            "|        417|       General|        Bottoms|    Shorts|\n",
            "|        417|       General|        Bottoms|    Shorts|\n",
            "|        417|       General|        Bottoms|    Shorts|\n",
            "|        417|       General|        Bottoms|    Shorts|\n",
            "|        417|       General|        Bottoms|    Shorts|\n",
            "|        417|       General|        Bottoms|    Shorts|\n",
            "|        417|       General|        Bottoms|    Shorts|\n",
            "|        417|       General|        Bottoms|    Shorts|\n",
            "|        417|       General|        Bottoms|    Shorts|\n",
            "|        293|     Initmates|       Intimate|      Swim|\n",
            "|        293|     Initmates|       Intimate|      Swim|\n",
            "|        539|General Petite|       Intimate|    Lounge|\n",
            "|        509|     Initmates|       Intimate|     Sleep|\n",
            "+-----------+--------------+---------------+----------+\n",
            "only showing top 20 rows\n",
            "\n"
          ]
        }
      ]
    },
    {
      "cell_type": "markdown",
      "metadata": {
        "id": "IQG9gdr4MGxE"
      },
      "source": [
        "#recommendForAllUsers"
      ]
    },
    {
      "cell_type": "code",
      "metadata": {
        "id": "PYwv4_520Piq",
        "colab": {
          "base_uri": "https://localhost:8080/"
        },
        "outputId": "f53047a7-8b58-456c-b797-78a3e969196e"
      },
      "source": [
        "recommendations1 = model.recommendForAllUsers(5)\n"
      ],
      "execution_count": null,
      "outputs": [
        {
          "output_type": "stream",
          "name": "stderr",
          "text": [
            "/usr/local/lib/python3.7/dist-packages/pyspark/sql/context.py:127: FutureWarning: Deprecated in 3.0.0. Use SparkSession.builder.getOrCreate() instead.\n",
            "  FutureWarning\n"
          ]
        }
      ]
    },
    {
      "cell_type": "code",
      "metadata": {
        "id": "YniN3vqy2kJZ",
        "colab": {
          "base_uri": "https://localhost:8080/"
        },
        "outputId": "da47ac05-57cd-4194-c06d-38c14ffeb99d"
      },
      "source": [
        "recommendations1.show(5)"
      ],
      "execution_count": null,
      "outputs": [
        {
          "output_type": "stream",
          "name": "stdout",
          "text": [
            "+-------+--------------------+\n",
            "|User_ID|     recommendations|\n",
            "+-------+--------------------+\n",
            "|      1|[{548, 25.935865}...|\n",
            "|      3|[{359, 7.872712},...|\n",
            "|      5|[{548, 10.374346}...|\n",
            "|      6|[{452, 11.24725},...|\n",
            "|      9|[{147, 27.374147}...|\n",
            "+-------+--------------------+\n",
            "only showing top 5 rows\n",
            "\n"
          ]
        }
      ]
    },
    {
      "cell_type": "code",
      "metadata": {
        "id": "k9S1wHMlBDho",
        "colab": {
          "base_uri": "https://localhost:8080/"
        },
        "outputId": "af20413e-274e-4889-c41b-6ff0849f365c"
      },
      "source": [
        "nrecommendations = recommendations1\\\n",
        "    .withColumn(\"rec_exp\", explode(\"recommendations\"))\\\n",
        "    .select('User_ID', col(\"rec_exp.Clothing_ID\"), col(\"rec_exp.Rating\"))\n",
        "\n",
        "nrecommendations.limit(10).show()"
      ],
      "execution_count": null,
      "outputs": [
        {
          "output_type": "stream",
          "name": "stdout",
          "text": [
            "+-------+-----------+---------+\n",
            "|User_ID|Clothing_ID|   Rating|\n",
            "+-------+-----------+---------+\n",
            "|      1|        548|25.935865|\n",
            "|      1|        268|23.036076|\n",
            "|      1|        147|22.714087|\n",
            "|      1|        102|21.344572|\n",
            "|      1|        328| 20.73505|\n",
            "|      3|        359| 7.872712|\n",
            "|      3|         34|7.8214884|\n",
            "|      3|        335|7.7897143|\n",
            "|      3|        357|7.7225404|\n",
            "|      3|         98|7.4652815|\n",
            "+-------+-----------+---------+\n",
            "\n"
          ]
        }
      ]
    },
    {
      "cell_type": "code",
      "metadata": {
        "id": "4lSLrk63BDd2",
        "colab": {
          "base_uri": "https://localhost:8080/"
        },
        "outputId": "3020f4dc-020a-4ff6-c7b6-8b7d7ed588c4"
      },
      "source": [
        "nrecommendations.join(info_df, on='Clothing_ID').filter('User_ID = 1').show()"
      ],
      "execution_count": null,
      "outputs": [
        {
          "output_type": "stream",
          "name": "stdout",
          "text": [
            "+-----------+-------+---------+---+--------------------+--------------------+------+---------------+-----------------------+-------------+---------------+----------+\n",
            "|Clothing_ID|User_ID|   Rating|Age|               Title|         Review Text|Rating|Recommended IND|Positive Feedback Count|Division Name|Department Name|Class Name|\n",
            "+-----------+-------+---------+---+--------------------+--------------------+------+---------------+-----------------------+-------------+---------------+----------+\n",
            "|        268|      1|23.036076| 53|     Blissfully soft|This robe is one ...|     5|              1|                     12|    Initmates|       Intimate|     Sleep|\n",
            "|        268|      1|23.036076| 39|             So soft|I love this robe,...|     5|              1|                      0|    Initmates|       Intimate|     Sleep|\n",
            "|        147|      1|22.714087| 36|Sleeping in comfo...|George venson of ...|     5|              1|                     11|    Initmates|       Intimate|     Sleep|\n",
            "|        147|      1|22.714087| 58| Pleasant dreamy pjs|I saw these in th...|     5|              1|                      0|    Initmates|       Intimate|     Sleep|\n",
            "|        328|      1| 20.73505| 48|      So super soft!|This is great and...|     5|              1|                      0|    Initmates|       Intimate|    Lounge|\n",
            "+-----------+-------+---------+---+--------------------+--------------------+------+---------------+-----------------------+-------------+---------------+----------+\n",
            "\n"
          ]
        }
      ]
    },
    {
      "cell_type": "markdown",
      "metadata": {
        "id": "IG-4xUfML6aX"
      },
      "source": [
        "#recommendForAllItems"
      ]
    },
    {
      "cell_type": "code",
      "metadata": {
        "id": "SdNwdQIN6I7e",
        "colab": {
          "base_uri": "https://localhost:8080/"
        },
        "outputId": "c4c6cd53-ef33-46f9-edac-4f1496f6e55f"
      },
      "source": [
        "recommendations2=model.recommendForAllItems(5)"
      ],
      "execution_count": null,
      "outputs": [
        {
          "output_type": "stream",
          "name": "stderr",
          "text": [
            "/usr/local/lib/python3.7/dist-packages/pyspark/sql/context.py:127: FutureWarning: Deprecated in 3.0.0. Use SparkSession.builder.getOrCreate() instead.\n",
            "  FutureWarning\n"
          ]
        }
      ]
    },
    {
      "cell_type": "code",
      "metadata": {
        "id": "hANYtGTe6p6j",
        "colab": {
          "base_uri": "https://localhost:8080/"
        },
        "outputId": "9a9911b4-58f2-4e25-c64c-aeb9b3def69c"
      },
      "source": [
        "recommendations2.show(10)"
      ],
      "execution_count": null,
      "outputs": [
        {
          "output_type": "stream",
          "name": "stdout",
          "text": [
            "+-----------+--------------------+\n",
            "|Clothing_ID|     recommendations|\n",
            "+-----------+--------------------+\n",
            "|          1|[{7280, 27.415129...|\n",
            "|          3|[{2210, 26.29809}...|\n",
            "|          5|[{12770, 26.24665...|\n",
            "|          6|[{12770, 27.79749...|\n",
            "|          9|[{2210, 31.425873...|\n",
            "|         12|[{9574, 36.11039}...|\n",
            "|         13|[{23192, 25.26461...|\n",
            "|         15|[{6120, 25.312954...|\n",
            "|         16|[{1720, 24.95262}...|\n",
            "|         17|[{2160, 37.054543...|\n",
            "+-----------+--------------------+\n",
            "only showing top 10 rows\n",
            "\n"
          ]
        }
      ]
    },
    {
      "cell_type": "code",
      "metadata": {
        "id": "3okY89cn848K",
        "colab": {
          "base_uri": "https://localhost:8080/"
        },
        "outputId": "d0bce29d-b895-480a-ffaf-4b176afbe533"
      },
      "source": [
        "recommendations2 = recommendations2\\\n",
        "    .withColumn(\"rec_exp\", explode(\"recommendations\"))\\\n",
        "    .select('Clothing_ID', col(\"rec_exp.User_ID\"), col(\"rec_exp.Rating\"))\n",
        "\n",
        "recommendations2.limit(10).show()"
      ],
      "execution_count": null,
      "outputs": [
        {
          "output_type": "stream",
          "name": "stdout",
          "text": [
            "+-----------+-------+---------+\n",
            "|Clothing_ID|User_ID|   Rating|\n",
            "+-----------+-------+---------+\n",
            "|          1|   7280|27.415129|\n",
            "|          1|   6840|27.415129|\n",
            "|          1|   6120|27.415129|\n",
            "|          1|   1720|27.415129|\n",
            "|          1|   6140|27.415129|\n",
            "|          3|   2210| 26.29809|\n",
            "|          3|    460| 26.29809|\n",
            "|          3|   2160| 26.29809|\n",
            "|          3|   2130| 26.29809|\n",
            "|          3|   2240| 26.29809|\n",
            "+-----------+-------+---------+\n",
            "\n"
          ]
        }
      ]
    },
    {
      "cell_type": "code",
      "metadata": {
        "id": "G72p6lL_Dhoz",
        "colab": {
          "base_uri": "https://localhost:8080/"
        },
        "outputId": "b4cb9152-ff0d-4431-8308-c05cba875b3b"
      },
      "source": [
        "recommendations2.join(info_df, on='Clothing_ID').filter('Clothing_ID = 564').show()"
      ],
      "execution_count": null,
      "outputs": [
        {
          "output_type": "stream",
          "name": "stdout",
          "text": [
            "+-----------+-------+---------+---+-------------+--------------------+------+---------------+-----------------------+-------------+---------------+----------+\n",
            "|Clothing_ID|User_ID|   Rating|Age|        Title|         Review Text|Rating|Recommended IND|Positive Feedback Count|Division Name|Department Name|Class Name|\n",
            "+-----------+-------+---------+---+-------------+--------------------+------+---------------+-----------------------+-------------+---------------+----------+\n",
            "|        564|   9492|18.396559| 53|Flapper-esque|Oh this is so muc...|     5|              1|                      4|      General|          Trend|     Trend|\n",
            "|        564|   4711|18.396559| 53|Flapper-esque|Oh this is so muc...|     5|              1|                      4|      General|          Trend|     Trend|\n",
            "|        564|   5032|18.396559| 53|Flapper-esque|Oh this is so muc...|     5|              1|                      4|      General|          Trend|     Trend|\n",
            "|        564|  21850|18.396559| 53|Flapper-esque|Oh this is so muc...|     5|              1|                      4|      General|          Trend|     Trend|\n",
            "|        564|   9574|18.396559| 53|Flapper-esque|Oh this is so muc...|     5|              1|                      4|      General|          Trend|     Trend|\n",
            "+-----------+-------+---------+---+-------------+--------------------+------+---------------+-----------------------+-------------+---------------+----------+\n",
            "\n"
          ]
        }
      ]
    },
    {
      "cell_type": "markdown",
      "metadata": {
        "id": "ek3jSa3yLzQr"
      },
      "source": [
        "#recommendForItemSubset"
      ]
    },
    {
      "cell_type": "code",
      "metadata": {
        "id": "FRaH9OF_oiLL"
      },
      "source": [
        "ratings1 = df.filter(col('Clothing_ID')==564)\n"
      ],
      "execution_count": null,
      "outputs": []
    },
    {
      "cell_type": "code",
      "metadata": {
        "id": "cXQ2L3L4oiLM",
        "colab": {
          "base_uri": "https://localhost:8080/"
        },
        "outputId": "bcb16b89-b095-48d0-de6d-052d7d8e8492"
      },
      "source": [
        "ratings1.show()"
      ],
      "execution_count": null,
      "outputs": [
        {
          "output_type": "stream",
          "name": "stdout",
          "text": [
            "+-------+-----------+------+\n",
            "|User_ID|Clothing_ID|Rating|\n",
            "+-------+-----------+------+\n",
            "|  14544|        564|     5|\n",
            "+-------+-----------+------+\n",
            "\n"
          ]
        }
      ]
    },
    {
      "cell_type": "code",
      "metadata": {
        "id": "gZSpFxyaoiLM"
      },
      "source": [
        "ID1 = [[564]]\n",
        "# convert this into a dataframe so that it can be passed into the recommendForUserSubset\n",
        "functiondf1 = sc.parallelize(ID1).toDF(['Clothing_ID'])\n",
        "num_rec1 = 10"
      ],
      "execution_count": null,
      "outputs": []
    },
    {
      "cell_type": "code",
      "metadata": {
        "id": "FiG9CVjloiLM",
        "colab": {
          "base_uri": "https://localhost:8080/"
        },
        "outputId": "2d93d3c9-ce0e-4c34-9f0d-0504eda63c05"
      },
      "source": [
        "functiondf1.show()"
      ],
      "execution_count": null,
      "outputs": [
        {
          "output_type": "stream",
          "name": "stdout",
          "text": [
            "+-----------+\n",
            "|Clothing_ID|\n",
            "+-----------+\n",
            "|        564|\n",
            "+-----------+\n",
            "\n"
          ]
        }
      ]
    },
    {
      "cell_type": "code",
      "metadata": {
        "id": "4P6mHWlHoiLM",
        "colab": {
          "base_uri": "https://localhost:8080/"
        },
        "outputId": "244830ad-66de-4d88-8e08-470a456db319"
      },
      "source": [
        "recommendations3 = model.recommendForItemSubset(functiondf1 , num_rec1)\n",
        "recommendations3.collect()"
      ],
      "execution_count": null,
      "outputs": [
        {
          "output_type": "stream",
          "name": "stderr",
          "text": [
            "/usr/local/lib/python3.7/dist-packages/pyspark/sql/context.py:127: FutureWarning: Deprecated in 3.0.0. Use SparkSession.builder.getOrCreate() instead.\n",
            "  FutureWarning\n"
          ]
        },
        {
          "output_type": "execute_result",
          "data": {
            "text/plain": [
              "[Row(Clothing_ID=564, recommendations=[Row(User_ID=22487, rating=18.39655876159668), Row(User_ID=4875, rating=18.39655876159668), Row(User_ID=18646, rating=18.39655876159668), Row(User_ID=9492, rating=18.39655876159668), Row(User_ID=9574, rating=18.39655876159668), Row(User_ID=9586, rating=18.39655876159668), Row(User_ID=5032, rating=18.39655876159668), Row(User_ID=21850, rating=18.39655876159668), Row(User_ID=4711, rating=18.39655876159668), Row(User_ID=14487, rating=18.39655876159668)])]"
            ]
          },
          "metadata": {},
          "execution_count": 39
        }
      ]
    },
    {
      "cell_type": "code",
      "metadata": {
        "id": "OBVYYVYjoiLM",
        "colab": {
          "base_uri": "https://localhost:8080/"
        },
        "outputId": "2be9d946-e25c-4f3d-d5a7-1eb24bd28d8f"
      },
      "source": [
        "recommended_clothing1 = [recommendations3.collect()[0]['recommendations'][x]['User_ID'] for x in range(0,num_rec1)]\n",
        "recommended_clothing1"
      ],
      "execution_count": null,
      "outputs": [
        {
          "output_type": "execute_result",
          "data": {
            "text/plain": [
              "[22487, 4875, 18646, 9492, 9574, 9586, 5032, 21850, 4711, 14487]"
            ]
          },
          "metadata": {},
          "execution_count": 40
        }
      ]
    },
    {
      "cell_type": "code",
      "metadata": {
        "id": "zrP4ynsJoiLM"
      },
      "source": [
        "# convert the recommended_ISBN list into a dataframe so that it can be joined with books_df\n",
        "rec_df1 = spark.createDataFrame(recommended_clothing1, IntegerType())"
      ],
      "execution_count": null,
      "outputs": []
    },
    {
      "cell_type": "code",
      "metadata": {
        "id": "Tr4sPw9ooiLM",
        "colab": {
          "base_uri": "https://localhost:8080/"
        },
        "outputId": "65572a20-e31b-4eb7-d6eb-2838308bba20"
      },
      "source": [
        "rec_df1.show()"
      ],
      "execution_count": null,
      "outputs": [
        {
          "output_type": "stream",
          "name": "stdout",
          "text": [
            "+-----+\n",
            "|value|\n",
            "+-----+\n",
            "|22487|\n",
            "| 4875|\n",
            "|18646|\n",
            "| 9492|\n",
            "| 9574|\n",
            "| 9586|\n",
            "| 5032|\n",
            "|21850|\n",
            "| 4711|\n",
            "|14487|\n",
            "+-----+\n",
            "\n"
          ]
        }
      ]
    },
    {
      "cell_type": "code",
      "metadata": {
        "id": "4JYgQnbhqo82"
      },
      "source": [
        "User_df=spark.read.csv('/content/User_info.csv',inferSchema=True,header=True)"
      ],
      "execution_count": null,
      "outputs": []
    },
    {
      "cell_type": "code",
      "metadata": {
        "id": "m8nhnhewoiLN"
      },
      "source": [
        "df3 = rec_df1.join(User_df,rec_df1.value == User_df.User_ID)"
      ],
      "execution_count": null,
      "outputs": []
    },
    {
      "cell_type": "code",
      "metadata": {
        "id": "OiwKCcLxoiLN",
        "colab": {
          "base_uri": "https://localhost:8080/"
        },
        "outputId": "bb22ac87-30fd-4b74-a0cb-6e73b348fb75"
      },
      "source": [
        "df3.show()"
      ],
      "execution_count": null,
      "outputs": [
        {
          "output_type": "stream",
          "name": "stdout",
          "text": [
            "+-----+-------+---+-----------+---------------+-----------------------+\n",
            "|value|User_ID|Age|Review Text|Recommended IND|Positive Feedback Count|\n",
            "+-----+-------+---+-----------+---------------+-----------------------+\n",
            "|22487|  22487| 77|       null|              1|                      1|\n",
            "| 4875|   4875| 36|       null|              1|                      0|\n",
            "|18646|  18646| 66|       null|              1|                      1|\n",
            "| 9492|   9492| 44|       null|              1|                      1|\n",
            "| 9574|   9574| 42|       null|              1|                      1|\n",
            "| 9586|   9586| 45|       null|              1|                      6|\n",
            "| 5032|   5032| 39|       null|              1|                      2|\n",
            "|21850|  21850| 36|       null|              1|                      0|\n",
            "| 4711|   4711| 62|       null|              1|                      0|\n",
            "|14487|  14487| 39|       null|              1|                      0|\n",
            "+-----+-------+---+-----------+---------------+-----------------------+\n",
            "\n"
          ]
        }
      ]
    },
    {
      "cell_type": "code",
      "metadata": {
        "id": "a5ScFlbboiLN",
        "colab": {
          "base_uri": "https://localhost:8080/"
        },
        "outputId": "61e90ef8-653b-49a1-9c0b-f9061bbc6864"
      },
      "source": [
        "df3.select(col('User_ID'),col('Age'),col('Recommended IND'),col('Positive Feedback Count')).show()"
      ],
      "execution_count": null,
      "outputs": [
        {
          "output_type": "stream",
          "name": "stdout",
          "text": [
            "+-------+---+---------------+-----------------------+\n",
            "|User_ID|Age|Recommended IND|Positive Feedback Count|\n",
            "+-------+---+---------------+-----------------------+\n",
            "|  22487| 77|              1|                      1|\n",
            "|   4875| 36|              1|                      0|\n",
            "|  18646| 66|              1|                      1|\n",
            "|   9492| 44|              1|                      1|\n",
            "|   9574| 42|              1|                      1|\n",
            "|   9586| 45|              1|                      6|\n",
            "|   5032| 39|              1|                      2|\n",
            "|  21850| 36|              1|                      0|\n",
            "|   4711| 62|              1|                      0|\n",
            "|  14487| 39|              1|                      0|\n",
            "+-------+---+---------------+-----------------------+\n",
            "\n"
          ]
        }
      ]
    }
  ]
}