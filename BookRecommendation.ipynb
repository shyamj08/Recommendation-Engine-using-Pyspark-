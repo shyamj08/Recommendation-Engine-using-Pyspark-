{
  "nbformat": 4,
  "nbformat_minor": 0,
  "metadata": {
    "accelerator": "GPU",
    "colab": {
      "name": "BookFinal.ipynb",
      "provenance": []
    },
    "kernelspec": {
      "display_name": "Python 3",
      "name": "python3"
    },
    "language_info": {
      "name": "python"
    }
  },
  "cells": [
    {
      "cell_type": "code",
      "metadata": {
        "colab": {
          "base_uri": "https://localhost:8080/"
        },
        "id": "EeLEJQpkc37M",
        "outputId": "1956205a-c449-4935-d515-8c5a20fb8d26"
      },
      "source": [
        "!pip install pyspark"
      ],
      "execution_count": null,
      "outputs": [
        {
          "output_type": "stream",
          "name": "stdout",
          "text": [
            "Collecting pyspark\n",
            "  Downloading pyspark-3.2.0.tar.gz (281.3 MB)\n",
            "\u001b[K     |████████████████████████████████| 281.3 MB 40 kB/s \n",
            "\u001b[?25hCollecting py4j==0.10.9.2\n",
            "  Downloading py4j-0.10.9.2-py2.py3-none-any.whl (198 kB)\n",
            "\u001b[K     |████████████████████████████████| 198 kB 34.3 MB/s \n",
            "\u001b[?25hBuilding wheels for collected packages: pyspark\n",
            "  Building wheel for pyspark (setup.py) ... \u001b[?25l\u001b[?25hdone\n",
            "  Created wheel for pyspark: filename=pyspark-3.2.0-py2.py3-none-any.whl size=281805912 sha256=eeec4edff5321291e0fc665f6027a737bd48a12a8e077d2d288c56cb01617d01\n",
            "  Stored in directory: /root/.cache/pip/wheels/0b/de/d2/9be5d59d7331c6c2a7c1b6d1a4f463ce107332b1ecd4e80718\n",
            "Successfully built pyspark\n",
            "Installing collected packages: py4j, pyspark\n",
            "Successfully installed py4j-0.10.9.2 pyspark-3.2.0\n"
          ]
        }
      ]
    },
    {
      "cell_type": "code",
      "metadata": {
        "id": "7O1bo63Tcwvm"
      },
      "source": [
        "# importing all the libraries we’ll require to build the book recommender\n",
        "import sys\n",
        "from pyspark import SparkConf, SparkContext\n",
        "from pyspark.sql import SparkSession\n",
        "from pyspark.ml.recommendation import ALS\n",
        "from pyspark.sql.functions  import *\n",
        "from pyspark.sql.types import *\n",
        "\n",
        "# define the configurations for this Spark program\n",
        "conf = SparkConf().setMaster(\"local[*]\").setAppName(\"Books\")\n",
        "conf.set(\"spark.executor.memory\", \"6G\")\n",
        "conf.set(\"spark.driver.memory\", \"2G\")\n",
        "conf.set(\"spark.executor.cores\", \"4\")\n",
        "conf.set(\"spark.serializer\", \"org.apache.spark.serializer.KryoSerializer\")\n",
        "conf.set(\"spark.default.parallelism\", \"4\")\n",
        "\n",
        "# create a Spark Session instead of a Spark Context\n",
        "spark = SparkSession.builder \\\n",
        "    .config(conf = conf) \\\n",
        "  .appName(\"spark session example\") \\\n",
        "  .getOrCreate()\n",
        "sc = spark.sparkContext"
      ],
      "execution_count": null,
      "outputs": []
    },
    {
      "cell_type": "code",
      "metadata": {
        "colab": {
          "base_uri": "https://localhost:8080/"
        },
        "id": "DhiC81Joc7pt",
        "outputId": "fc4454f4-aad5-4561-8de3-6acb6464385b"
      },
      "source": [
        "books_df = spark.read.option(\"delimiter\", \";\").option(\"header\", \"true\").csv('/content/Books.csv')\n",
        "books_df.show()"
      ],
      "execution_count": null,
      "outputs": [
        {
          "output_type": "stream",
          "name": "stdout",
          "text": [
            "+----------+--------------------+--------------------+----+--------------------+\n",
            "|      ISBN|               Title|              Author|Year|           Publisher|\n",
            "+----------+--------------------+--------------------+----+--------------------+\n",
            "|0195153448| Classical Mythology|  Mark P. O. Morford|2002|Oxford University...|\n",
            "|0002005018|        Clara Callan|Richard Bruce Wright|2001|HarperFlamingo Ca...|\n",
            "|0060973129|Decision in Normandy|        Carlo D'Este|1991|     HarperPerennial|\n",
            "|0374157065|Flu: The Story of...|    Gina Bari Kolata|1999|Farrar Straus Giroux|\n",
            "|0393045218|The Mummies of Ur...|     E. J. W. Barber|1999|W. W. Norton & Co...|\n",
            "|0399135782|The Kitchen God's...|             Amy Tan|1991|    Putnam Pub Group|\n",
            "|0425176428|What If?: The Wor...|       Robert Cowley|2000|Berkley Publishin...|\n",
            "|0671870432|     PLEADING GUILTY|         Scott Turow|1993|          Audioworks|\n",
            "|0679425608|Under the Black F...|     David Cordingly|1996|        Random House|\n",
            "|074322678X|Where You'll Find...|         Ann Beattie|2002|            Scribner|\n",
            "|0771074670|Nights Below Stat...|David Adams Richards|1988|     Emblem Editions|\n",
            "|080652121X|Hitler's Secret B...|          Adam Lebor|2000|       Citadel Press|\n",
            "|0887841740|  The Middle Stories|         Sheila Heti|2004|House of Anansi P...|\n",
            "|1552041778|            Jane Doe|        R. J. Kaiser|1999|          Mira Books|\n",
            "|1558746218|A Second Chicken ...|       Jack Canfield|1998|Health Communicat...|\n",
            "|1567407781|The Witchfinder (...|   Loren D. Estleman|1998|Brilliance Audio ...|\n",
            "|1575663937|More Cunning Than...|  Robert Hendrickson|1999|Kensington Publis...|\n",
            "|1881320189|Goodbye to the Bu...|        Julia Oliver|1994|      River City Pub|\n",
            "|0440234743|       The Testament|        John Grisham|1999|                Dell|\n",
            "|0452264464|Beloved (Plume Co...|       Toni Morrison|1994|               Plume|\n",
            "+----------+--------------------+--------------------+----+--------------------+\n",
            "only showing top 20 rows\n",
            "\n"
          ]
        }
      ]
    },
    {
      "cell_type": "code",
      "metadata": {
        "id": "8mO1UgsrdIar"
      },
      "source": [
        "user_ratings_df = spark.read.option(\"delimiter\", \";\").option(\"header\", \"true\").csv('/content/Ratings.csv')"
      ],
      "execution_count": null,
      "outputs": []
    },
    {
      "cell_type": "code",
      "metadata": {
        "colab": {
          "base_uri": "https://localhost:8080/"
        },
        "id": "5VKdlsHDgSLY",
        "outputId": "a4a19d86-3d0f-4b8c-c1cd-54679b4e708b"
      },
      "source": [
        "user_ratings_df.show()"
      ],
      "execution_count": null,
      "outputs": [
        {
          "output_type": "stream",
          "name": "stdout",
          "text": [
            "+-------+----------+------+\n",
            "|User-ID|      ISBN|Rating|\n",
            "+-------+----------+------+\n",
            "| 276725|034545104X|     0|\n",
            "| 276726|0155061224|     5|\n",
            "| 276727|0446520802|     0|\n",
            "| 276729|052165615X|     3|\n",
            "| 276729|0521795028|     6|\n",
            "| 276733|2080674722|     0|\n",
            "| 276736|3257224281|     8|\n",
            "| 276737|0600570967|     6|\n",
            "| 276744|038550120X|     7|\n",
            "| 276745| 342310538|    10|\n",
            "| 276746|0425115801|     0|\n",
            "| 276746|0449006522|     0|\n",
            "| 276746|0553561618|     0|\n",
            "| 276746|055356451X|     0|\n",
            "| 276746|0786013990|     0|\n",
            "| 276746|0786014512|     0|\n",
            "| 276747|0060517794|     9|\n",
            "| 276747|0451192001|     0|\n",
            "| 276747|0609801279|     0|\n",
            "| 276747|0671537458|     9|\n",
            "+-------+----------+------+\n",
            "only showing top 20 rows\n",
            "\n"
          ]
        }
      ]
    },
    {
      "cell_type": "code",
      "metadata": {
        "colab": {
          "base_uri": "https://localhost:8080/"
        },
        "id": "iIUGv0TUtYZ7",
        "outputId": "9501bbf4-eece-4aeb-e219-892bb40cf8f0"
      },
      "source": [
        "user_ratings_df.printSchema()"
      ],
      "execution_count": null,
      "outputs": [
        {
          "output_type": "stream",
          "name": "stdout",
          "text": [
            "root\n",
            " |-- User-ID: string (nullable = true)\n",
            " |-- ISBN: string (nullable = true)\n",
            " |-- Rating: string (nullable = true)\n",
            "\n"
          ]
        }
      ]
    },
    {
      "cell_type": "code",
      "metadata": {
        "colab": {
          "base_uri": "https://localhost:8080/"
        },
        "id": "CR6unm3yhxlm",
        "outputId": "911e5d1a-840e-4b84-9c92-86a31f5719fd"
      },
      "source": [
        "# Columns User-ID, ISBN and Book-Rating were in string format, which we convert to int\n",
        "ratings_df = user_ratings_df.withColumn(\"User-ID\",\n",
        "                                        user_ratings_df['User-ID'].\\\n",
        "                                        cast(IntegerType())).\\\n",
        "\t\t\t\t\t\t\t\t\t\twithColumn(\"ISBN\", user_ratings_df['ISBN'].\\\n",
        "           \t\t\t\t\t\t\t\tcast(IntegerType())).\\\n",
        "    \t\t\t\t\t\t\t\t\twithColumn(\"Rating\",\\\n",
        "                                        user_ratings_df['Rating'].\\\n",
        "                                  \t\tcast(IntegerType())).\\\n",
        "        \t\t\t\t\t\t\t\tna.drop()\n",
        "ratings_df.show()"
      ],
      "execution_count": null,
      "outputs": [
        {
          "output_type": "stream",
          "name": "stdout",
          "text": [
            "+-------+----------+------+\n",
            "|User-ID|      ISBN|Rating|\n",
            "+-------+----------+------+\n",
            "| 276726| 155061224|     5|\n",
            "| 276727| 446520802|     0|\n",
            "| 276729| 521795028|     6|\n",
            "| 276733|2080674722|     0|\n",
            "| 276737| 600570967|     6|\n",
            "| 276745| 342310538|    10|\n",
            "| 276746| 425115801|     0|\n",
            "| 276746| 449006522|     0|\n",
            "| 276746| 553561618|     0|\n",
            "| 276746| 786013990|     0|\n",
            "| 276746| 786014512|     0|\n",
            "| 276747|  60517794|     9|\n",
            "| 276747| 451192001|     0|\n",
            "| 276747| 609801279|     0|\n",
            "| 276747| 671537458|     9|\n",
            "| 276747| 679776818|     8|\n",
            "| 276747| 943066433|     7|\n",
            "| 276747|1570231028|     0|\n",
            "| 276747|1885408226|     7|\n",
            "| 276748| 747558167|     6|\n",
            "+-------+----------+------+\n",
            "only showing top 20 rows\n",
            "\n"
          ]
        }
      ]
    },
    {
      "cell_type": "code",
      "metadata": {
        "colab": {
          "base_uri": "https://localhost:8080/"
        },
        "id": "vYVcNEU7wCTP",
        "outputId": "9f6e7a3c-1555-4655-fc92-eacf6cdf8f98"
      },
      "source": [
        "ratings_df.printSchema()"
      ],
      "execution_count": null,
      "outputs": [
        {
          "output_type": "stream",
          "name": "stdout",
          "text": [
            "root\n",
            " |-- User-ID: integer (nullable = true)\n",
            " |-- ISBN: integer (nullable = true)\n",
            " |-- Rating: integer (nullable = true)\n",
            "\n"
          ]
        }
      ]
    },
    {
      "cell_type": "code",
      "metadata": {
        "id": "o6zvxqLWjLBw"
      },
      "source": [
        "users_df = spark.read.option(\"delimiter\", \";\").option(\"header\", \"true\").csv('/content/Users.csv')"
      ],
      "execution_count": null,
      "outputs": []
    },
    {
      "cell_type": "code",
      "metadata": {
        "id": "N_-ALGQydOS1"
      },
      "source": [
        "# define parameters\n",
        "als = ALS(maxIter=5, regParam=0.01, userCol=\"User-ID\", itemCol=\"ISBN\", ratingCol=\"Rating\",coldStartStrategy=\"drop\")\n",
        "#fit the model to the ratings\n",
        "model = als.fit(ratings_df)"
      ],
      "execution_count": null,
      "outputs": []
    },
    {
      "cell_type": "markdown",
      "metadata": {
        "id": "MP3-kQ9ZZ77l"
      },
      "source": [
        "#RegressionEvaluator"
      ]
    },
    {
      "cell_type": "code",
      "metadata": {
        "id": "9uRdJVHTdMxh"
      },
      "source": [
        "# Import the required functions\n",
        "from pyspark.ml.evaluation import RegressionEvaluator"
      ],
      "execution_count": null,
      "outputs": []
    },
    {
      "cell_type": "code",
      "metadata": {
        "id": "5BjhTNLNdMxi"
      },
      "source": [
        "# Create test and train set\n",
        "(train, test) = ratings_df.randomSplit([0.8, 0.2], seed = 1234)"
      ],
      "execution_count": null,
      "outputs": []
    },
    {
      "cell_type": "code",
      "metadata": {
        "id": "T3qyokYudMxm"
      },
      "source": [
        "best_model = als.fit(train)"
      ],
      "execution_count": null,
      "outputs": []
    },
    {
      "cell_type": "code",
      "metadata": {
        "id": "JLfDr265UYed"
      },
      "source": [
        "# View the predictions\n",
        "test_predictions = best_model.transform(test)"
      ],
      "execution_count": null,
      "outputs": []
    },
    {
      "cell_type": "code",
      "metadata": {
        "colab": {
          "base_uri": "https://localhost:8080/"
        },
        "id": "xse7l4zrXqIl",
        "outputId": "9835bf85-21ca-40b9-fab5-50b8d1d8e1e5"
      },
      "source": [
        "test_predictions.show()"
      ],
      "execution_count": null,
      "outputs": [
        {
          "output_type": "stream",
          "name": "stdout",
          "text": [
            "+-------+---------+------+-----------+\n",
            "|User-ID|     ISBN|Rating| prediction|\n",
            "+-------+---------+------+-----------+\n",
            "|   8086|684868865|     8| -4.6288714|\n",
            "|  12799|449221393|     0|        0.0|\n",
            "|  15957|  6177492|     0|        0.0|\n",
            "|  15957| 60929596|    10|-0.79417866|\n",
            "|  15957| 61007161|     5|  2.3564427|\n",
            "|  15957|312983387|     0|   0.874372|\n",
            "|  15957|345331001|     0| -0.1596441|\n",
            "|  15957|375700757|     0|  2.5452433|\n",
            "|  15957|385335482|     9| -0.6146819|\n",
            "|  15957|440184886|     0|        0.0|\n",
            "|  15957|446673544|     9|  2.5453572|\n",
            "|  15957|450411435|     0|  3.2633176|\n",
            "|  15957|451167716|     0|  2.6793787|\n",
            "|  15957|451190548|     8| -3.0437832|\n",
            "|  15957|451204530|     0|  3.0421953|\n",
            "|  15957|553571737|     0|  2.1254148|\n",
            "|  15957|679724362|     0|  1.2744019|\n",
            "|  15957|679760377|     0|  1.8253385|\n",
            "|  15957|743444329|     0|  3.2795553|\n",
            "|  15957|804109052|     0|  1.1500984|\n",
            "+-------+---------+------+-----------+\n",
            "only showing top 20 rows\n",
            "\n"
          ]
        }
      ]
    },
    {
      "cell_type": "code",
      "metadata": {
        "id": "NofDoXRXdMxn",
        "scrolled": true
      },
      "source": [
        "evaluator = RegressionEvaluator(metricName=\"rmse\", labelCol=\"Rating\", predictionCol=\"prediction\") "
      ],
      "execution_count": null,
      "outputs": []
    },
    {
      "cell_type": "code",
      "metadata": {
        "colab": {
          "base_uri": "https://localhost:8080/"
        },
        "id": "wmbXhmTtUQxK",
        "outputId": "c9e9d525-4716-4095-c47f-7bb9fc7ce03b"
      },
      "source": [
        "RMSE = evaluator.evaluate(test_predictions)\n",
        "print(RMSE)"
      ],
      "execution_count": null,
      "outputs": [
        {
          "output_type": "stream",
          "name": "stdout",
          "text": [
            "6.131161917726394\n"
          ]
        }
      ]
    },
    {
      "cell_type": "markdown",
      "metadata": {
        "id": "rpeJABlJQt28"
      },
      "source": [
        "#recommendForUserSubset"
      ]
    },
    {
      "cell_type": "code",
      "metadata": {
        "colab": {
          "base_uri": "https://localhost:8080/"
        },
        "id": "TF6Y41KRdO6t",
        "outputId": "51c4dfbb-1f46-4111-9635-a9a0c7a1dd37"
      },
      "source": [
        "ratings = ratings_df.filter(col('User-ID')==17)\n",
        "books_df.join(ratings,ratings.ISBN==books_df.ISBN).select(col('User-ID'),col('Title'),col('Author'),col('Year'),col('Rating')).show()"
      ],
      "execution_count": null,
      "outputs": [
        {
          "output_type": "stream",
          "name": "stdout",
          "text": [
            "+-------+--------------------+-----------------+----+------+\n",
            "|User-ID|               Title|           Author|Year|Rating|\n",
            "+-------+--------------------+-----------------+----+------+\n",
            "|     17|OUT OF THE SILENT...|       C.S. Lewis|1996|     0|\n",
            "|     17|Prelude to Founda...|     ISAAC ASIMOV|1989|     0|\n",
            "|     17|             Prophet| Frank E. Peretti|1992|     3|\n",
            "|     17|     Winter Solstice|Rosamunde Pilcher|2001|     0|\n",
            "|     17| Death in the Clouds|  Agatha Christie|1997|     7|\n",
            "|     17|Piercing the Dark...| Frank E. Peretti|1989|     6|\n",
            "|     17|Bant/Spec.Last of...|    Louis L'Amour|1987|     5|\n",
            "+-------+--------------------+-----------------+----+------+\n",
            "\n"
          ]
        }
      ]
    },
    {
      "cell_type": "code",
      "metadata": {
        "colab": {
          "base_uri": "https://localhost:8080/"
        },
        "id": "1Evege-RdRu0",
        "outputId": "8c95cb32-3a9b-4951-b845-ff9828f6a0d8"
      },
      "source": [
        "user_id = [[17]]\n",
        "# convert this into a dataframe so that it can be passed into the recommendForUserSubset\n",
        "functiondf = sc.parallelize(user_id).toDF(['User-ID'])\n",
        "num_rec = 10\n",
        "recommendations = model.recommendForUserSubset(functiondf , num_rec)\n",
        "recommendations.collect()\n",
        "# pick only the ISBN of the books, ignore other fields\n",
        "recommended_ISBN = [recommendations.collect()[0]['recommendations'][x]['ISBN'] for x in range(0,num_rec)]\n",
        "recommended_ISBN"
      ],
      "execution_count": null,
      "outputs": [
        {
          "output_type": "stream",
          "name": "stderr",
          "text": [
            "/usr/local/lib/python3.7/dist-packages/pyspark/sql/context.py:127: FutureWarning: Deprecated in 3.0.0. Use SparkSession.builder.getOrCreate() instead.\n",
            "  FutureWarning\n"
          ]
        },
        {
          "output_type": "execute_result",
          "data": {
            "text/plain": [
              "[505525526,\n",
              " 394800206,\n",
              " 836218787,\n",
              " 393050939,\n",
              " 140012486,\n",
              " 375815260,\n",
              " 1888054557,\n",
              " 1400032806,\n",
              " 374403589,\n",
              " 505525178]"
            ]
          },
          "metadata": {},
          "execution_count": 19
        }
      ]
    },
    {
      "cell_type": "code",
      "metadata": {
        "colab": {
          "base_uri": "https://localhost:8080/"
        },
        "id": "sIZuwTa4dUs3",
        "outputId": "a2d23da4-0eef-46c3-dd27-4a11585fdde8"
      },
      "source": [
        "# convert the recommended_ISBN list into a dataframe so that it can be joined with books_df\n",
        "rec_df = spark.createDataFrame(recommended_ISBN, IntegerType())\n",
        "print('Top book recommendations for User-ID ',user_id[0][0], 'are:')\n",
        "books_df.join(rec_df,rec_df.value==books_df.ISBN).select(col('Title'),col('Author'),col('Year'),col('ISBN')).show()"
      ],
      "execution_count": null,
      "outputs": [
        {
          "output_type": "stream",
          "name": "stdout",
          "text": [
            "Top book recommendations for User-ID  17 are:\n",
            "+--------------------+--------------------+----+----------+\n",
            "|               Title|              Author|Year|      ISBN|\n",
            "+--------------------+--------------------+----+----------+\n",
            "|Single White Vampire|        Lynsay Sands|2003|0505525526|\n",
            "|Go, Dog, Go (I Ca...|   Philip D. Eastman|1961|0394800206|\n",
            "|Scientific Progre...|      Bill Watterson|1991|0836218787|\n",
            "|Stiff: The Curiou...|          Mary Roach|2003|0393050939|\n",
            "|Charlie and the C...|          ROALD DAHL|2001|0375815260|\n",
            "|Postmarked Yester...|Pamela E. Apkaria...|2001|1888054557|\n",
            "|Under the Banner ...|        JON KRAKAUER|2004|1400032806|\n",
            "|    Improper English|    Katie Macalister|2003|0505525178|\n",
            "+--------------------+--------------------+----+----------+\n",
            "\n"
          ]
        }
      ]
    },
    {
      "cell_type": "markdown",
      "metadata": {
        "id": "IG-4xUfML6aX"
      },
      "source": [
        "#recommendForAllItems"
      ]
    },
    {
      "cell_type": "code",
      "metadata": {
        "id": "SdNwdQIN6I7e",
        "colab": {
          "base_uri": "https://localhost:8080/"
        },
        "outputId": "1569188f-484b-4b4b-e0ef-69b9e8443c4b"
      },
      "source": [
        "recommendations2=model.recommendForAllItems(5)"
      ],
      "execution_count": null,
      "outputs": [
        {
          "output_type": "stream",
          "name": "stderr",
          "text": [
            "/usr/local/lib/python3.7/dist-packages/pyspark/sql/context.py:127: FutureWarning: Deprecated in 3.0.0. Use SparkSession.builder.getOrCreate() instead.\n",
            "  FutureWarning\n"
          ]
        }
      ]
    },
    {
      "cell_type": "code",
      "metadata": {
        "id": "hANYtGTe6p6j",
        "colab": {
          "base_uri": "https://localhost:8080/"
        },
        "outputId": "b29951f4-0f41-4101-f3f6-29f39f1ff9d4"
      },
      "source": [
        "recommendations2.show(10)"
      ],
      "execution_count": null,
      "outputs": [
        {
          "output_type": "stream",
          "name": "stdout",
          "text": [
            "+------+--------------------+\n",
            "|  ISBN|     recommendations|\n",
            "+------+--------------------+\n",
            "|  1400|[{88187, 73.9973}...|\n",
            "|  1404|[{96989, 79.42860...|\n",
            "|  1460|[{33875, 25.42917...|\n",
            "| 14044|[{10, 0.0}, {20, ...|\n",
            "| 53416|[{70878, 36.47485...|\n",
            "| 70854|[{88187, 29.24179...|\n",
            "|200092|[{10, 0.0}, {20, ...|\n",
            "|205138|[{10, 0.0}, {20, ...|\n",
            "|222318|[{10, 0.0}, {20, ...|\n",
            "|225755|[{10, 0.0}, {20, ...|\n",
            "+------+--------------------+\n",
            "only showing top 10 rows\n",
            "\n"
          ]
        }
      ]
    },
    {
      "cell_type": "code",
      "metadata": {
        "id": "3okY89cn848K",
        "colab": {
          "base_uri": "https://localhost:8080/"
        },
        "outputId": "65fa6e92-1efa-4029-ab40-acac20e864d8"
      },
      "source": [
        "recommendations2 = recommendations2\\\n",
        "    .withColumn(\"rec_exp\", explode(\"recommendations\"))\\\n",
        "    .select('ISBN', col(\"rec_exp.User-ID\"), col(\"rec_exp.Rating\"))\n",
        "recommendations2.limit(10).show()"
      ],
      "execution_count": null,
      "outputs": [
        {
          "output_type": "stream",
          "name": "stdout",
          "text": [
            "+----+-------+---------+\n",
            "|ISBN|User-ID|   Rating|\n",
            "+----+-------+---------+\n",
            "|1400|  88187|  73.9973|\n",
            "|1400|  77307| 52.19913|\n",
            "|1400|  17065|51.761963|\n",
            "|1400|  91875| 51.44953|\n",
            "|1400|  53408| 47.90209|\n",
            "|1404|  96989|79.428604|\n",
            "|1404|  81484|70.117386|\n",
            "|1404|  81311| 64.43918|\n",
            "|1404|  98574|58.447224|\n",
            "|1404| 104051|53.849194|\n",
            "+----+-------+---------+\n",
            "\n"
          ]
        }
      ]
    },
    {
      "cell_type": "code",
      "metadata": {
        "id": "G72p6lL_Dhoz",
        "colab": {
          "base_uri": "https://localhost:8080/"
        },
        "outputId": "e7a1b2e4-59ce-4170-89a4-2316ac46ef4d"
      },
      "source": [
        "recommendations2.join(users_df, on='User-ID').filter('ISBN = 0316779059').show()"
      ],
      "execution_count": null,
      "outputs": [
        {
          "output_type": "stream",
          "name": "stdout",
          "text": [
            "+-------+---------+----------+---+\n",
            "|User-ID|     ISBN|    Rating|Age|\n",
            "+-------+---------+----------+---+\n",
            "|  60255|316779059| 133.16617| 33|\n",
            "|  83166|316779059|127.142944| 44|\n",
            "|  47465|316779059| 107.51777| 23|\n",
            "|  36286|316779059| 101.76853| 21|\n",
            "|  36677|316779059| 100.30067| 28|\n",
            "+-------+---------+----------+---+\n",
            "\n"
          ]
        }
      ]
    },
    {
      "cell_type": "markdown",
      "metadata": {
        "id": "ek3jSa3yLzQr"
      },
      "source": [
        "#recommendForItemSubset"
      ]
    },
    {
      "cell_type": "code",
      "metadata": {
        "id": "FRaH9OF_oiLL"
      },
      "source": [
        "ratings1 = books_df.filter(col('ISBN')==316779059)"
      ],
      "execution_count": null,
      "outputs": []
    },
    {
      "cell_type": "code",
      "metadata": {
        "id": "cXQ2L3L4oiLM",
        "colab": {
          "base_uri": "https://localhost:8080/"
        },
        "outputId": "5fd37ed5-3703-472a-e640-174db5ef8ab7"
      },
      "source": [
        "ratings1.show()"
      ],
      "execution_count": null,
      "outputs": [
        {
          "output_type": "stream",
          "name": "stdout",
          "text": [
            "+----------+--------------------+------------+----+-------------+\n",
            "|      ISBN|               Title|      Author|Year|    Publisher|\n",
            "+----------+--------------------+------------+----+-------------+\n",
            "|0316779059|The Baby Book: Ev...|Martha Sears|1993|Little, Brown|\n",
            "+----------+--------------------+------------+----+-------------+\n",
            "\n"
          ]
        }
      ]
    },
    {
      "cell_type": "code",
      "metadata": {
        "id": "gZSpFxyaoiLM"
      },
      "source": [
        "ID1 = [[316779059]]\n",
        "# convert this into a dataframe so that it can be passed into the recommendForUserSubset\n",
        "functiondf1 = sc.parallelize(ID1).toDF(['ISBN'])\n",
        "num_rec1 = 10"
      ],
      "execution_count": null,
      "outputs": []
    },
    {
      "cell_type": "code",
      "metadata": {
        "id": "FiG9CVjloiLM",
        "colab": {
          "base_uri": "https://localhost:8080/"
        },
        "outputId": "b4bb79a5-aa6c-4336-efa3-9872aa65d05f"
      },
      "source": [
        "functiondf1.show()"
      ],
      "execution_count": null,
      "outputs": [
        {
          "output_type": "stream",
          "name": "stdout",
          "text": [
            "+---------+\n",
            "|     ISBN|\n",
            "+---------+\n",
            "|316779059|\n",
            "+---------+\n",
            "\n"
          ]
        }
      ]
    },
    {
      "cell_type": "code",
      "metadata": {
        "id": "4P6mHWlHoiLM",
        "colab": {
          "base_uri": "https://localhost:8080/"
        },
        "outputId": "489f9b58-5f3a-481f-e43b-535ef6a3f74f"
      },
      "source": [
        "recommendations3 = model.recommendForItemSubset(functiondf1 , num_rec1)\n",
        "recommendations3.collect()"
      ],
      "execution_count": null,
      "outputs": [
        {
          "output_type": "stream",
          "name": "stderr",
          "text": [
            "/usr/local/lib/python3.7/dist-packages/pyspark/sql/context.py:127: FutureWarning: Deprecated in 3.0.0. Use SparkSession.builder.getOrCreate() instead.\n",
            "  FutureWarning\n"
          ]
        },
        {
          "output_type": "execute_result",
          "data": {
            "text/plain": [
              "[Row(ISBN=316779059, recommendations=[Row(User-ID=60255, rating=133.16616821289062), Row(User-ID=83166, rating=127.1429443359375), Row(User-ID=47465, rating=107.51776885986328), Row(User-ID=36286, rating=101.7685317993164), Row(User-ID=36677, rating=100.30066680908203), Row(User-ID=50110, rating=94.44934844970703), Row(User-ID=96019, rating=92.83719635009766), Row(User-ID=83971, rating=92.48200988769531), Row(User-ID=27317, rating=91.5135726928711), Row(User-ID=31250, rating=90.21512603759766)])]"
            ]
          },
          "metadata": {},
          "execution_count": 29
        }
      ]
    },
    {
      "cell_type": "code",
      "metadata": {
        "id": "OBVYYVYjoiLM",
        "colab": {
          "base_uri": "https://localhost:8080/"
        },
        "outputId": "f35aabda-9a0c-4126-99de-1d829aa13d3d"
      },
      "source": [
        "recommended_clothing1 = [recommendations3.collect()[0]['recommendations'][x]['User-ID'] for x in range(0,num_rec1)]\n",
        "recommended_clothing1"
      ],
      "execution_count": null,
      "outputs": [
        {
          "output_type": "execute_result",
          "data": {
            "text/plain": [
              "[60255, 83166, 47465, 36286, 36677, 50110, 96019, 83971, 27317, 31250]"
            ]
          },
          "metadata": {},
          "execution_count": 30
        }
      ]
    },
    {
      "cell_type": "code",
      "metadata": {
        "id": "zrP4ynsJoiLM"
      },
      "source": [
        "# convert the recommended_ISBN list into a dataframe so that it can be joined with books_df\n",
        "rec_df1 = spark.createDataFrame(recommended_clothing1, IntegerType())"
      ],
      "execution_count": null,
      "outputs": []
    },
    {
      "cell_type": "code",
      "metadata": {
        "id": "Tr4sPw9ooiLM",
        "colab": {
          "base_uri": "https://localhost:8080/"
        },
        "outputId": "76e278dc-b8aa-4441-9a5f-671978efe10f"
      },
      "source": [
        "rec_df1.show()"
      ],
      "execution_count": null,
      "outputs": [
        {
          "output_type": "stream",
          "name": "stdout",
          "text": [
            "+-----+\n",
            "|value|\n",
            "+-----+\n",
            "|60255|\n",
            "|83166|\n",
            "|47465|\n",
            "|36286|\n",
            "|36677|\n",
            "|50110|\n",
            "|96019|\n",
            "|83971|\n",
            "|27317|\n",
            "|31250|\n",
            "+-----+\n",
            "\n"
          ]
        }
      ]
    },
    {
      "cell_type": "code",
      "metadata": {
        "id": "4JYgQnbhqo82"
      },
      "source": [
        "User_df = spark.read.option(\"delimiter\", \";\").option(\"header\", \"true\").csv('/content/Users.csv')"
      ],
      "execution_count": null,
      "outputs": []
    },
    {
      "cell_type": "code",
      "source": [
        "User_df.show()"
      ],
      "metadata": {
        "colab": {
          "base_uri": "https://localhost:8080/"
        },
        "id": "VhRU2da66-YV",
        "outputId": "0201885f-548c-4ea7-fe37-322abdc646a6"
      },
      "execution_count": null,
      "outputs": [
        {
          "output_type": "stream",
          "name": "stdout",
          "text": [
            "+-------+----+\n",
            "|User-ID| Age|\n",
            "+-------+----+\n",
            "|      1|null|\n",
            "|      2|  18|\n",
            "|      3|null|\n",
            "|      4|  17|\n",
            "|      5|null|\n",
            "|      6|  61|\n",
            "|      7|null|\n",
            "|      8|null|\n",
            "|      9|null|\n",
            "|     10|  26|\n",
            "|     11|  14|\n",
            "|     12|null|\n",
            "|     13|  26|\n",
            "|     14|null|\n",
            "|     15|null|\n",
            "|     16|null|\n",
            "|     17|null|\n",
            "|     18|  25|\n",
            "|     19|  14|\n",
            "|     20|  19|\n",
            "+-------+----+\n",
            "only showing top 20 rows\n",
            "\n"
          ]
        }
      ]
    },
    {
      "cell_type": "code",
      "source": [
        "User_df = User_df.withColumnRenamed(\"User-ID\", \"User_ID\")"
      ],
      "metadata": {
        "id": "wH8a_e5d7VN2"
      },
      "execution_count": null,
      "outputs": []
    },
    {
      "cell_type": "code",
      "metadata": {
        "id": "m8nhnhewoiLN"
      },
      "source": [
        "df3 = rec_df1.join(User_df,rec_df1.value == User_df.User_ID)"
      ],
      "execution_count": null,
      "outputs": []
    },
    {
      "cell_type": "code",
      "metadata": {
        "id": "OiwKCcLxoiLN",
        "colab": {
          "base_uri": "https://localhost:8080/"
        },
        "outputId": "f5c2ebf6-4e6a-4411-8890-d7573a2f39bf"
      },
      "source": [
        "df3.show()"
      ],
      "execution_count": null,
      "outputs": [
        {
          "output_type": "stream",
          "name": "stdout",
          "text": [
            "+-----+-------+---+\n",
            "|value|User_ID|Age|\n",
            "+-----+-------+---+\n",
            "|60255|  60255| 33|\n",
            "|83166|  83166| 44|\n",
            "|47465|  47465| 23|\n",
            "|36286|  36286| 21|\n",
            "|36677|  36677| 28|\n",
            "|50110|  50110| 60|\n",
            "|96019|  96019| 25|\n",
            "|83971|  83971| 59|\n",
            "|27317|  27317| 25|\n",
            "|31250|  31250| 34|\n",
            "+-----+-------+---+\n",
            "\n"
          ]
        }
      ]
    },
    {
      "cell_type": "code",
      "metadata": {
        "id": "a5ScFlbboiLN",
        "colab": {
          "base_uri": "https://localhost:8080/"
        },
        "outputId": "1d3c07e5-f884-45ad-ef69-eaab6ec76459"
      },
      "source": [
        "df3.select(col('User_ID'),col('Age')).show()"
      ],
      "execution_count": null,
      "outputs": [
        {
          "output_type": "stream",
          "name": "stdout",
          "text": [
            "+-------+---+\n",
            "|User_ID|Age|\n",
            "+-------+---+\n",
            "|  60255| 33|\n",
            "|  83166| 44|\n",
            "|  47465| 23|\n",
            "|  36286| 21|\n",
            "|  36677| 28|\n",
            "|  50110| 60|\n",
            "|  96019| 25|\n",
            "|  83971| 59|\n",
            "|  27317| 25|\n",
            "|  31250| 34|\n",
            "+-------+---+\n",
            "\n"
          ]
        }
      ]
    },
    {
      "cell_type": "code",
      "metadata": {
        "id": "E65aeVX5iz0m"
      },
      "source": [
        ""
      ],
      "execution_count": null,
      "outputs": []
    },
    {
      "cell_type": "code",
      "metadata": {
        "id": "x5xWbHSzizyV"
      },
      "source": [
        ""
      ],
      "execution_count": null,
      "outputs": []
    },
    {
      "cell_type": "markdown",
      "metadata": {
        "id": "p78MLqw0RiIi"
      },
      "source": [
        "#recommendForAllUsers"
      ]
    },
    {
      "cell_type": "code",
      "metadata": {
        "id": "Q1rR6xgMQ9ZL",
        "colab": {
          "base_uri": "https://localhost:8080/"
        },
        "outputId": "ce05e5b9-22ca-4010-d3da-24deca93d64f"
      },
      "source": [
        "recommendations1 = model.recommendForAllUsers(5)"
      ],
      "execution_count": null,
      "outputs": [
        {
          "output_type": "stream",
          "name": "stderr",
          "text": [
            "/usr/local/lib/python3.7/dist-packages/pyspark/sql/context.py:127: FutureWarning: Deprecated in 3.0.0. Use SparkSession.builder.getOrCreate() instead.\n",
            "  FutureWarning\n"
          ]
        }
      ]
    },
    {
      "cell_type": "code",
      "metadata": {
        "id": "vLXmVb5WRsi3",
        "colab": {
          "base_uri": "https://localhost:8080/"
        },
        "outputId": "2b7df93c-81d8-4772-f740-087359792e52"
      },
      "source": [
        "recommendations1.show(5)"
      ],
      "execution_count": null,
      "outputs": [
        {
          "output_type": "stream",
          "name": "stdout",
          "text": [
            "+-------+--------------------+\n",
            "|User-ID|     recommendations|\n",
            "+-------+--------------------+\n",
            "|     12|[{394871804, 16.2...|\n",
            "|     16|[{316358436, 34.4...|\n",
            "|     26|[{1570820538, 37....|\n",
            "|     44|[{312187106, 14.6...|\n",
            "|     53|[{394800206, 17.9...|\n",
            "+-------+--------------------+\n",
            "only showing top 5 rows\n",
            "\n"
          ]
        }
      ]
    },
    {
      "cell_type": "code",
      "metadata": {
        "id": "nwBFq0BtRv11",
        "colab": {
          "base_uri": "https://localhost:8080/"
        },
        "outputId": "8f6fddf1-17f3-4b92-ecb7-4a2f5de6e557"
      },
      "source": [
        "nrecommendations = recommendations1\\\n",
        "    .withColumn(\"rec_exp\", explode(\"recommendations\"))\\\n",
        "    .select('User-ID', col(\"rec_exp.ISBN\"), col(\"rec_exp.Rating\"))\n",
        "\n",
        "nrecommendations.limit(10).show()"
      ],
      "execution_count": null,
      "outputs": [
        {
          "output_type": "stream",
          "name": "stdout",
          "text": [
            "+-------+----------+---------+\n",
            "|User-ID|      ISBN|   Rating|\n",
            "+-------+----------+---------+\n",
            "|     12| 394871804|16.202433|\n",
            "|     12|  70064547| 14.79994|\n",
            "|     12| 425133656|14.303633|\n",
            "|     12|1570820872|14.258346|\n",
            "|     12| 140431357| 13.88073|\n",
            "|     16| 316358436|34.493313|\n",
            "|     16| 670835382|27.750908|\n",
            "|     16| 316779059|27.248983|\n",
            "|     16| 140258418|25.719477|\n",
            "|     16|1570820538|  25.5685|\n",
            "+-------+----------+---------+\n",
            "\n"
          ]
        }
      ]
    },
    {
      "cell_type": "code",
      "source": [
        "nrecommendations = nrecommendations.withColumnRenamed(\"User-ID\", \"User_ID\")"
      ],
      "metadata": {
        "id": "S1YsYVCs927z"
      },
      "execution_count": null,
      "outputs": []
    },
    {
      "cell_type": "code",
      "source": [
        "books_df = books_df.withColumnRenamed(\"User-ID\", \"User_ID\")"
      ],
      "metadata": {
        "id": "ot8UzU7R9ham"
      },
      "execution_count": null,
      "outputs": []
    },
    {
      "cell_type": "code",
      "metadata": {
        "id": "Hn-oS7eZUdXf",
        "colab": {
          "base_uri": "https://localhost:8080/"
        },
        "outputId": "74e2b703-5559-46b5-c22c-5a91cf0b0885"
      },
      "source": [
        "nrecommendations.join(books_df, on='ISBN').filter('User_ID = 12').show()"
      ],
      "execution_count": null,
      "outputs": [
        {
          "output_type": "stream",
          "name": "stdout",
          "text": [
            "+----------+-------+---------+--------------------+---------------+----+--------------------+\n",
            "|      ISBN|User_ID|   Rating|               Title|         Author|Year|           Publisher|\n",
            "+----------+-------+---------+--------------------+---------------+----+--------------------+\n",
            "| 394871804|     12|16.202433|The Berenstain Be...|Stan Berenstain|1985|Random House Chil...|\n",
            "|  70064547|     12| 14.79994|Motherhood: The S...|   Erma Bombeck|1983|         McGraw-Hill|\n",
            "| 425133656|     12|14.303633|       Deep Thoughts|    Jack Handey|1994|Berkley Publishin...|\n",
            "|1570820872|     12|14.258346|Disney's the Lion...|   Don Ferguson|1994|Random House Chil...|\n",
            "| 140431357|     12| 13.88073|Tess of the D'Urb...|   Thomas Hardy|1978|       Penguin Books|\n",
            "+----------+-------+---------+--------------------+---------------+----+--------------------+\n",
            "\n"
          ]
        }
      ]
    }
  ]
}